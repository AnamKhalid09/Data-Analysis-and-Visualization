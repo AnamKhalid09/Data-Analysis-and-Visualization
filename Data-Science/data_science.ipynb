{
 "cells": [
  {
   "cell_type": "code",
   "execution_count": null,
   "id": "247e1c33",
   "metadata": {},
   "outputs": [],
   "source": [
    "# import libraries\n",
    "import pandas as pd\n",
    "\n",
    "# save path to csv file in a variable\n",
    "data_file=\"../Resources/AustraliaDataScienceJobs.csv\"\n",
    "\n",
    "# read data file using pandas library\n",
    "data_file_df=pd.read_csv(data_file,encoding=\"UTF-8\")\n",
    "\n",
    "# display dataframe\n",
    "df=pd.DataFrame(data_file_df)\n",
    "df.head()"
   ]
  },
  {
   "cell_type": "code",
   "execution_count": null,
   "id": "41929474",
   "metadata": {
    "scrolled": true
   },
   "outputs": [],
   "source": [
    "# remove unwanted columns\n",
    "cols=['Url','Job Descriptions']\n",
    "data_science=df.drop(cols,axis=1)\n",
    "data_science"
   ]
  },
  {
   "cell_type": "code",
   "execution_count": null,
   "id": "c28dc579",
   "metadata": {},
   "outputs": [],
   "source": [
    "# Identify incomplete rows\n",
    "data_science.count()"
   ]
  },
  {
   "cell_type": "code",
   "execution_count": null,
   "id": "282d5ddc",
   "metadata": {},
   "outputs": [],
   "source": [
    "# Drop rows with missing information\n",
    "data_science_df=data_science.dropna(how='any')\n",
    "data_science_df"
   ]
  },
  {
   "cell_type": "code",
   "execution_count": null,
   "id": "3c00aa4a",
   "metadata": {},
   "outputs": [],
   "source": [
    "# Verify Cleanup\n",
    "data_science_df.count()"
   ]
  },
  {
   "cell_type": "code",
   "execution_count": null,
   "id": "b1c15721",
   "metadata": {},
   "outputs": [],
   "source": [
    "# Checking the number of rows and columns\n",
    "data_science_df.shape"
   ]
  },
  {
   "cell_type": "code",
   "execution_count": null,
   "id": "b6194abd",
   "metadata": {},
   "outputs": [],
   "source": [
    "# Checking the datatypes of the columns\n",
    "data_science_df.dtypes"
   ]
  },
  {
   "cell_type": "code",
   "execution_count": null,
   "id": "dd893e48",
   "metadata": {},
   "outputs": [],
   "source": [
    "# To find the non-number values(optional)\n",
    "data_science_df.max()"
   ]
  },
  {
   "cell_type": "code",
   "execution_count": null,
   "id": "4fa8351a",
   "metadata": {},
   "outputs": [],
   "source": [
    "# Anam\n",
    "# Find the top and bottom 5 company sectors in terms of salaries and employee satisfaction\n",
    "# 6.1: Find the mean, mode, median, variance and standard deviation of salary for each\n",
    "# company sector\n",
    "# 6.2: Get the top 5 and bottom 5 sectors.\n",
    "# 6.3: Create bar charts and pie charts\n",
    "\n",
    "# Find the unique total of companies\n",
    "total_unique_companies=data_science_df['Company'].value_counts()\n",
    "total_unique_companies\n",
    "\n",
    "# Average for each company\n",
    "company_average=data_science_df.groupby([\"Company\"]).mean()[[\"Estimate Base Salary\",\"Low Estimate\",\"High Estimate\",\"Company Career Opportinities\",'Compensation and Benefits',\"Company Culture and Values\",\"Company Work Life Balance\"]]\n",
    "company_average"
   ]
  },
  {
   "cell_type": "code",
   "execution_count": null,
   "id": "137826f8",
   "metadata": {},
   "outputs": [],
   "source": [
    "# Anam\n",
    "# 7: Find the unique job titles and extract top 5 and bottom 5 job titles in terms of salary\n",
    "job_title=data_science_df.groupby([\"Job Title\"]).mean()[[\"Estimate Base Salary\",\"Low Estimate\",\"High Estimate\"]]\n",
    "job_title\n",
    "# job_title.sort_values()"
   ]
  },
  {
   "cell_type": "code",
   "execution_count": null,
   "id": "d00de9f3",
   "metadata": {},
   "outputs": [],
   "source": [
    "# Nishant\n",
    "# 8: Find the states with the highest and lowest number of job opportunities by using groupby method"
   ]
  },
  {
   "cell_type": "code",
   "execution_count": null,
   "id": "c24c41e0",
   "metadata": {},
   "outputs": [],
   "source": [
    "# Nishant\n",
    "# 9: The popular company type by using loc method and then make a pie chart"
   ]
  },
  {
   "cell_type": "code",
   "execution_count": null,
   "id": "ef96b7fe",
   "metadata": {},
   "outputs": [],
   "source": [
    "# Nishant\n",
    "# 10: Compare the size of the company using the bin and compare the salaries"
   ]
  },
  {
   "cell_type": "code",
   "execution_count": null,
   "id": "9ce24a4f",
   "metadata": {},
   "outputs": [],
   "source": [
    "# John\n",
    "# 11: Find top 15 and bottom 15 companies in terms of company ratings and employee satisfaction by setting conditions over 4.0"
   ]
  },
  {
   "cell_type": "code",
   "execution_count": null,
   "id": "ce69820f",
   "metadata": {},
   "outputs": [],
   "source": [
    "# John\n",
    "# 12: Define metro and regional by using conditional statements and find the number of opportunities in metro vs regional"
   ]
  },
  {
   "cell_type": "code",
   "execution_count": null,
   "id": "d85cb774",
   "metadata": {},
   "outputs": [],
   "source": [
    "# Anam\n",
    "# 13: Count for each technical skill and then find top 5 and bottom 5\n",
    "skills_df=data_science_df[['python_yn','r_yn','sql_yn','java_yn','julia_yn','scala_yn','c_yn','c++_yn','javascript_yn','spark_yn','hadoop_yn','matlab_yn','sas_yn','git_yn','excel_yn','nosql_yn','aws_yn','mongodb_yn','cassandra_yn','hive_yn','bigml_yn','tableau_yn','powerbi_yn','nlp_yn','pytorch_yn','tensorflow_yn','mathematic_yn','statistic_yn']]\n",
    "skills_df.sum()"
   ]
  },
  {
   "cell_type": "code",
   "execution_count": null,
   "id": "955587d3",
   "metadata": {},
   "outputs": [],
   "source": [
    "# John\n",
    "# 14: Bonus: Try using gmaps API to create a heatmap that we can use to visualize which states have more employment opportunities when it comes to data science."
   ]
  }
 ],
 "metadata": {
  "kernelspec": {
   "display_name": "Python 3 (ipykernel)",
   "language": "python",
   "name": "python3"
  },
  "language_info": {
   "codemirror_mode": {
    "name": "ipython",
    "version": 3
   },
   "file_extension": ".py",
   "mimetype": "text/x-python",
   "name": "python",
   "nbconvert_exporter": "python",
   "pygments_lexer": "ipython3",
   "version": "3.9.12"
  }
 },
 "nbformat": 4,
 "nbformat_minor": 5
}
